{
 "cells": [
  {
   "cell_type": "markdown",
   "metadata": {},
   "source": [
    "# Análise exploratória de dados"
   ]
  },
  {
   "cell_type": "code",
   "execution_count": 16,
   "metadata": {},
   "outputs": [],
   "source": [
    "import pandas as pd\n",
    "import numpy as np\n",
    "\n",
    "import seaborn as sns\n",
    "\n",
    "from IPython.display import display, Markdown\n",
    "from sklearn.preprocessing import LabelEncoder\n",
    "from sklearn.linear_model import LinearRegression\n",
    "from sklearn.model_selection import train_test_split\n",
    "from sklearn.metrics import mean_squared_error\n",
    "from matplotlib import pyplot as plt\n",
    "from scipy import stats\n",
    "\n",
    "colors = [\"#9467bd\", \"#057476\", \"#FF7A00\"]\n",
    "# sns.set_style(\"whitegrid\")\n",
    "sns.set_theme(style=\"ticks\")\n",
    "sns.set_palette(sns.color_palette(colors))"
   ]
  },
  {
   "cell_type": "code",
   "execution_count": 17,
   "metadata": {},
   "outputs": [],
   "source": [
    "def  separador():\n",
    "    print(\"=\" * 50 + \" Separador \" + \"=\" * 50)"
   ]
  },
  {
   "cell_type": "markdown",
   "metadata": {},
   "source": [
    "## 1. Leitura do conjunto de dados"
   ]
  },
  {
   "cell_type": "code",
   "execution_count": 18,
   "metadata": {},
   "outputs": [
    {
     "data": {
      "text/html": [
       "<div>\n",
       "<style scoped>\n",
       "    .dataframe tbody tr th:only-of-type {\n",
       "        vertical-align: middle;\n",
       "    }\n",
       "\n",
       "    .dataframe tbody tr th {\n",
       "        vertical-align: top;\n",
       "    }\n",
       "\n",
       "    .dataframe thead th {\n",
       "        text-align: right;\n",
       "    }\n",
       "</style>\n",
       "<table border=\"1\" class=\"dataframe\">\n",
       "  <thead>\n",
       "    <tr style=\"text-align: right;\">\n",
       "      <th></th>\n",
       "      <th>Unnamed: 0</th>\n",
       "      <th>total_bill</th>\n",
       "      <th>tip</th>\n",
       "      <th>sex</th>\n",
       "      <th>smoker</th>\n",
       "      <th>day</th>\n",
       "      <th>time</th>\n",
       "      <th>size</th>\n",
       "    </tr>\n",
       "  </thead>\n",
       "  <tbody>\n",
       "    <tr>\n",
       "      <th>0</th>\n",
       "      <td>0</td>\n",
       "      <td>total_bill</td>\n",
       "      <td>tip</td>\n",
       "      <td>sex</td>\n",
       "      <td>smoker</td>\n",
       "      <td>day</td>\n",
       "      <td>time</td>\n",
       "      <td>size</td>\n",
       "    </tr>\n",
       "    <tr>\n",
       "      <th>1</th>\n",
       "      <td>1</td>\n",
       "      <td>16.99</td>\n",
       "      <td>1.01</td>\n",
       "      <td>Female</td>\n",
       "      <td>No</td>\n",
       "      <td>Sun</td>\n",
       "      <td>Dinner</td>\n",
       "      <td>2</td>\n",
       "    </tr>\n",
       "    <tr>\n",
       "      <th>2</th>\n",
       "      <td>2</td>\n",
       "      <td>10.34</td>\n",
       "      <td>1.66</td>\n",
       "      <td>Male</td>\n",
       "      <td>No</td>\n",
       "      <td>Sun</td>\n",
       "      <td>Dinner</td>\n",
       "      <td>3</td>\n",
       "    </tr>\n",
       "    <tr>\n",
       "      <th>3</th>\n",
       "      <td>3</td>\n",
       "      <td>21.01</td>\n",
       "      <td>3.5</td>\n",
       "      <td>Male</td>\n",
       "      <td>No</td>\n",
       "      <td>Sun</td>\n",
       "      <td>Dinner</td>\n",
       "      <td>3</td>\n",
       "    </tr>\n",
       "    <tr>\n",
       "      <th>4</th>\n",
       "      <td>4</td>\n",
       "      <td>23.68</td>\n",
       "      <td>3.31</td>\n",
       "      <td>Male</td>\n",
       "      <td>No</td>\n",
       "      <td>Sun</td>\n",
       "      <td>Dinner</td>\n",
       "      <td>2</td>\n",
       "    </tr>\n",
       "  </tbody>\n",
       "</table>\n",
       "</div>"
      ],
      "text/plain": [
       "   Unnamed: 0  total_bill   tip     sex  smoker  day    time  size\n",
       "0           0  total_bill   tip     sex  smoker  day    time  size\n",
       "1           1       16.99  1.01  Female      No  Sun  Dinner     2\n",
       "2           2       10.34  1.66    Male      No  Sun  Dinner     3\n",
       "3           3       21.01   3.5    Male      No  Sun  Dinner     3\n",
       "4           4       23.68  3.31    Male      No  Sun  Dinner     2"
      ]
     },
     "execution_count": 18,
     "metadata": {},
     "output_type": "execute_result"
    }
   ],
   "source": [
    "df = pd.read_csv('https://raw.githubusercontent.com/atlantico-academy/datasets/refs/heads/main/tips.csv', header=None, names=['total_bill', 'tip', 'sex', 'smoker', 'day', 'time', 'size'])\n",
    "df = df.to_csv('../data/raw/tips.csv')\n",
    "df = pd.read_csv('../data/raw/tips.csv')\n",
    "df.head()\n"
   ]
  },
  {
   "cell_type": "markdown",
   "metadata": {},
   "source": [
    "## 2. Descrição dos dados"
   ]
  },
  {
   "cell_type": "markdown",
   "metadata": {},
   "source": [
    "<p align=\"center\">\n",
    "  <img src=\"https://media3.giphy.com/media/v1.Y2lkPTc5MGI3NjExMzcxdHVndmZkdm45Z2hvbnViNXVkazEwZnZzdnFpNzd3dzduNWczeCZlcD12MV9pbnRlcm5hbF9naWZfYnlfaWQmY3Q9Zw/wz5ZpvQqjzJEb8uaEz/giphy.gif\"/>\n",
    "</p>\n",
    "\n",
    "O conjunto de dados \"tips.csv\" da Atlatico Academy contém informações detalhadas sobre 245 contas de um restaurante, incluindo o valor total da conta em dólares, o valor da gorjeta em dólares, o gênero do cliente, o hábito de fumar, o dia da semana (de segunda a domingo) e o horário da refeição (almoço ou jantar). O objetivo desta análise é identificar padrões de consumo e os fatores que influenciam o valor das gorjetas, como o dia da semana, o horário da refeição e o tamanho do grupo."
   ]
  },
  {
   "cell_type": "markdown",
   "metadata": {},
   "source": [
    "## 2.1. Dicionário de dados"
   ]
  },
  {
   "cell_type": "code",
   "execution_count": 19,
   "metadata": {},
   "outputs": [
    {
     "data": {
      "text/html": [
       "<div>\n",
       "<style scoped>\n",
       "    .dataframe tbody tr th:only-of-type {\n",
       "        vertical-align: middle;\n",
       "    }\n",
       "\n",
       "    .dataframe tbody tr th {\n",
       "        vertical-align: top;\n",
       "    }\n",
       "\n",
       "    .dataframe thead th {\n",
       "        text-align: right;\n",
       "    }\n",
       "</style>\n",
       "<table border=\"1\" class=\"dataframe\">\n",
       "  <thead>\n",
       "    <tr style=\"text-align: right;\">\n",
       "      <th></th>\n",
       "      <th>variavel</th>\n",
       "      <th>descricao</th>\n",
       "      <th>tipo</th>\n",
       "      <th>subtipo</th>\n",
       "    </tr>\n",
       "  </thead>\n",
       "  <tbody>\n",
       "    <tr>\n",
       "      <th>0</th>\n",
       "      <td>total_bill</td>\n",
       "      <td>Valor total da conta ou transação</td>\n",
       "      <td>quantitativa</td>\n",
       "      <td>contínua</td>\n",
       "    </tr>\n",
       "    <tr>\n",
       "      <th>1</th>\n",
       "      <td>tip</td>\n",
       "      <td>Valor da Gorjeta</td>\n",
       "      <td>quantitativa</td>\n",
       "      <td>contínua</td>\n",
       "    </tr>\n",
       "    <tr>\n",
       "      <th>2</th>\n",
       "      <td>sex</td>\n",
       "      <td>Sexo do Cliente</td>\n",
       "      <td>qualitativa</td>\n",
       "      <td>nominal</td>\n",
       "    </tr>\n",
       "    <tr>\n",
       "      <th>3</th>\n",
       "      <td>smoker</td>\n",
       "      <td>Se o cliente fuma</td>\n",
       "      <td>qualitativa</td>\n",
       "      <td>nominal</td>\n",
       "    </tr>\n",
       "    <tr>\n",
       "      <th>4</th>\n",
       "      <td>day</td>\n",
       "      <td>Dia da Semana</td>\n",
       "      <td>qualitativa</td>\n",
       "      <td>nominal</td>\n",
       "    </tr>\n",
       "    <tr>\n",
       "      <th>5</th>\n",
       "      <td>time</td>\n",
       "      <td>Periodo do dia (Almoço ou Jantar)</td>\n",
       "      <td>qualitativa</td>\n",
       "      <td>nominal</td>\n",
       "    </tr>\n",
       "    <tr>\n",
       "      <th>6</th>\n",
       "      <td>size</td>\n",
       "      <td>Tamanho do grupo</td>\n",
       "      <td>quantitativa</td>\n",
       "      <td>discreta</td>\n",
       "    </tr>\n",
       "  </tbody>\n",
       "</table>\n",
       "</div>"
      ],
      "text/plain": [
       "     variavel                          descricao          tipo   subtipo\n",
       "0  total_bill  Valor total da conta ou transação  quantitativa  contínua\n",
       "1         tip                   Valor da Gorjeta  quantitativa  contínua\n",
       "2         sex                    Sexo do Cliente   qualitativa   nominal\n",
       "3      smoker                  Se o cliente fuma   qualitativa   nominal\n",
       "4         day                      Dia da Semana   qualitativa   nominal\n",
       "5        time  Periodo do dia (Almoço ou Jantar)   qualitativa   nominal\n",
       "6        size                   Tamanho do grupo  quantitativa  discreta"
      ]
     },
     "execution_count": 19,
     "metadata": {},
     "output_type": "execute_result"
    }
   ],
   "source": [
    "dicionario = pd.read_csv('../data/external/dictionary.csv')\n",
    "dicionario"
   ]
  },
  {
   "cell_type": "code",
   "execution_count": 20,
   "metadata": {},
   "outputs": [
    {
     "data": {
      "text/markdown": [
       "\n",
       "---\n",
       " - São 7 variáveis: 4 qualitativas e 3 quantitativas e 1 variável inútil;\n",
       "    - Qualitativas: 4 nominais e 0 ordinais;\n",
       "    - Quantitativas: 2 contínuas e 1 discretas;\n",
       "---\n"
      ],
      "text/plain": [
       "<IPython.core.display.Markdown object>"
      ]
     },
     "metadata": {},
     "output_type": "display_data"
    }
   ],
   "source": [
    "quantidade_qualitativa = dicionario.query(\"tipo == 'qualitativa'\").shape[0]\n",
    "quantidade_quantitativa = dicionario.query(\"tipo == 'quantitativa'\").shape[0]\n",
    "\n",
    "quantidade_qualitativa_nominal = dicionario.query(\"subtipo == 'nominal'\").shape[0]\n",
    "quantidade_qualitativa_ordinal = dicionario.query(\"subtipo == 'ordinal'\").shape[0]\n",
    "\n",
    "quantidade_quantitativa_continua = dicionario.query(\"subtipo == 'contínua'\").shape[0]\n",
    "quantidade_quantitativa_discreta = dicionario.query(\"subtipo == 'discreta'\").shape[0]\n",
    "\n",
    "display(Markdown(f\"\"\"\n",
    "---\n",
    " - São {dicionario.shape[0]} variáveis: {quantidade_qualitativa} qualitativas e {quantidade_quantitativa} quantitativas e 1 variável inútil;\n",
    "    - Qualitativas: {quantidade_qualitativa_nominal} nominais e {quantidade_qualitativa_ordinal} ordinais;\n",
    "    - Quantitativas: {quantidade_quantitativa_continua} contínuas e {quantidade_quantitativa_discreta} discretas;\n",
    "---\n",
    "\"\"\"))"
   ]
  },
  {
   "cell_type": "markdown",
   "metadata": {},
   "source": [
    "## 3. Perguntas de partida e hipóteses¶"
   ]
  },
  {
   "cell_type": "markdown",
   "metadata": {},
   "source": [
    "*  **Hipótese 1**: Qual grupo deixa mais gorjetas, mulheres ou homens?\n",
    "*  **Hipótese 3**: Os efeitos do hábito de fumar influenciam a gorjeta?\n",
    "*  **Hipótese 4**: Os dias da semana influenciam significativamente no valor das gorjetas?\n",
    "*  **Hipótese 5**: E em relacao ao horario, qual o que dos dois da mais gorjetas, jantar ou almoço?"
   ]
  },
  {
   "cell_type": "markdown",
   "metadata": {},
   "source": [
    "### Existem dados faltantes, se sim quantos e em quais variáveis?"
   ]
  },
  {
   "cell_type": "code",
   "execution_count": 21,
   "metadata": {},
   "outputs": [
    {
     "data": {
      "text/plain": [
       "Series([], dtype: int64)"
      ]
     },
     "metadata": {},
     "output_type": "display_data"
    },
    {
     "data": {
      "text/markdown": [
       "---\n",
       "A partir dessa informação sabemos que as variáveis `[]`contém valores faltantes. Além disso sabemos que temos `0` linhas com valores faltantes.As próximas análises aqui serão realizadas sem considerar os dados faltantes\n",
       "\n",
       " ---"
      ],
      "text/plain": [
       "<IPython.core.display.Markdown object>"
      ]
     },
     "metadata": {},
     "output_type": "display_data"
    }
   ],
   "source": [
    "# colunas (variáveis) contendo valores faltantes\n",
    "number_of_na_by_column = df.isnull().sum().loc[lambda x: x > 0]\n",
    "number_of_na_rows = df.isnull().any(axis=1).sum()\n",
    "\n",
    "display(number_of_na_by_column)\n",
    "display(Markdown(\n",
    "    \"---\\n\"\n",
    "    f\"A partir dessa informação sabemos que as variáveis `{number_of_na_by_column.axes[0].to_list()}`\"\n",
    "    f\"contém valores faltantes. Além disso sabemos que temos `{number_of_na_rows}` linhas com valores faltantes.\"\n",
    "    \"As próximas análises aqui serão realizadas sem considerar os dados faltantes\"\n",
    "    \"\\n\\n ---\"\n",
    "    \n",
    "))\n",
    "\n",
    "df.dropna(inplace=True)"
   ]
  },
  {
   "cell_type": "markdown",
   "metadata": {},
   "source": [
    "## Qual a distribuição dos dados (variável por variável)?"
   ]
  },
  {
   "cell_type": "code",
   "execution_count": 22,
   "metadata": {},
   "outputs": [
    {
     "data": {
      "text/html": [
       "<div>\n",
       "<style scoped>\n",
       "    .dataframe tbody tr th:only-of-type {\n",
       "        vertical-align: middle;\n",
       "    }\n",
       "\n",
       "    .dataframe tbody tr th {\n",
       "        vertical-align: top;\n",
       "    }\n",
       "\n",
       "    .dataframe thead th {\n",
       "        text-align: right;\n",
       "    }\n",
       "</style>\n",
       "<table border=\"1\" class=\"dataframe\">\n",
       "  <thead>\n",
       "    <tr style=\"text-align: right;\">\n",
       "      <th></th>\n",
       "      <th>Unnamed: 0</th>\n",
       "      <th>total_bill</th>\n",
       "      <th>tip</th>\n",
       "      <th>sex</th>\n",
       "      <th>smoker</th>\n",
       "      <th>day</th>\n",
       "      <th>time</th>\n",
       "      <th>size</th>\n",
       "    </tr>\n",
       "  </thead>\n",
       "  <tbody>\n",
       "    <tr>\n",
       "      <th>count</th>\n",
       "      <td>245.000000</td>\n",
       "      <td>245</td>\n",
       "      <td>245</td>\n",
       "      <td>245</td>\n",
       "      <td>245</td>\n",
       "      <td>245</td>\n",
       "      <td>245</td>\n",
       "      <td>245</td>\n",
       "    </tr>\n",
       "    <tr>\n",
       "      <th>unique</th>\n",
       "      <td>NaN</td>\n",
       "      <td>230</td>\n",
       "      <td>124</td>\n",
       "      <td>3</td>\n",
       "      <td>3</td>\n",
       "      <td>5</td>\n",
       "      <td>3</td>\n",
       "      <td>7</td>\n",
       "    </tr>\n",
       "    <tr>\n",
       "      <th>top</th>\n",
       "      <td>NaN</td>\n",
       "      <td>13.42</td>\n",
       "      <td>2</td>\n",
       "      <td>Male</td>\n",
       "      <td>No</td>\n",
       "      <td>Sat</td>\n",
       "      <td>Dinner</td>\n",
       "      <td>2</td>\n",
       "    </tr>\n",
       "    <tr>\n",
       "      <th>freq</th>\n",
       "      <td>NaN</td>\n",
       "      <td>3</td>\n",
       "      <td>33</td>\n",
       "      <td>157</td>\n",
       "      <td>151</td>\n",
       "      <td>87</td>\n",
       "      <td>176</td>\n",
       "      <td>156</td>\n",
       "    </tr>\n",
       "    <tr>\n",
       "      <th>mean</th>\n",
       "      <td>122.000000</td>\n",
       "      <td>NaN</td>\n",
       "      <td>NaN</td>\n",
       "      <td>NaN</td>\n",
       "      <td>NaN</td>\n",
       "      <td>NaN</td>\n",
       "      <td>NaN</td>\n",
       "      <td>NaN</td>\n",
       "    </tr>\n",
       "    <tr>\n",
       "      <th>std</th>\n",
       "      <td>70.869599</td>\n",
       "      <td>NaN</td>\n",
       "      <td>NaN</td>\n",
       "      <td>NaN</td>\n",
       "      <td>NaN</td>\n",
       "      <td>NaN</td>\n",
       "      <td>NaN</td>\n",
       "      <td>NaN</td>\n",
       "    </tr>\n",
       "    <tr>\n",
       "      <th>min</th>\n",
       "      <td>0.000000</td>\n",
       "      <td>NaN</td>\n",
       "      <td>NaN</td>\n",
       "      <td>NaN</td>\n",
       "      <td>NaN</td>\n",
       "      <td>NaN</td>\n",
       "      <td>NaN</td>\n",
       "      <td>NaN</td>\n",
       "    </tr>\n",
       "    <tr>\n",
       "      <th>25%</th>\n",
       "      <td>61.000000</td>\n",
       "      <td>NaN</td>\n",
       "      <td>NaN</td>\n",
       "      <td>NaN</td>\n",
       "      <td>NaN</td>\n",
       "      <td>NaN</td>\n",
       "      <td>NaN</td>\n",
       "      <td>NaN</td>\n",
       "    </tr>\n",
       "    <tr>\n",
       "      <th>50%</th>\n",
       "      <td>122.000000</td>\n",
       "      <td>NaN</td>\n",
       "      <td>NaN</td>\n",
       "      <td>NaN</td>\n",
       "      <td>NaN</td>\n",
       "      <td>NaN</td>\n",
       "      <td>NaN</td>\n",
       "      <td>NaN</td>\n",
       "    </tr>\n",
       "    <tr>\n",
       "      <th>75%</th>\n",
       "      <td>183.000000</td>\n",
       "      <td>NaN</td>\n",
       "      <td>NaN</td>\n",
       "      <td>NaN</td>\n",
       "      <td>NaN</td>\n",
       "      <td>NaN</td>\n",
       "      <td>NaN</td>\n",
       "      <td>NaN</td>\n",
       "    </tr>\n",
       "    <tr>\n",
       "      <th>max</th>\n",
       "      <td>244.000000</td>\n",
       "      <td>NaN</td>\n",
       "      <td>NaN</td>\n",
       "      <td>NaN</td>\n",
       "      <td>NaN</td>\n",
       "      <td>NaN</td>\n",
       "      <td>NaN</td>\n",
       "      <td>NaN</td>\n",
       "    </tr>\n",
       "  </tbody>\n",
       "</table>\n",
       "</div>"
      ],
      "text/plain": [
       "        Unnamed: 0 total_bill  tip   sex smoker  day    time size\n",
       "count   245.000000        245  245   245    245  245     245  245\n",
       "unique         NaN        230  124     3      3    5       3    7\n",
       "top            NaN      13.42    2  Male     No  Sat  Dinner    2\n",
       "freq           NaN          3   33   157    151   87     176  156\n",
       "mean    122.000000        NaN  NaN   NaN    NaN  NaN     NaN  NaN\n",
       "std      70.869599        NaN  NaN   NaN    NaN  NaN     NaN  NaN\n",
       "min       0.000000        NaN  NaN   NaN    NaN  NaN     NaN  NaN\n",
       "25%      61.000000        NaN  NaN   NaN    NaN  NaN     NaN  NaN\n",
       "50%     122.000000        NaN  NaN   NaN    NaN  NaN     NaN  NaN\n",
       "75%     183.000000        NaN  NaN   NaN    NaN  NaN     NaN  NaN\n",
       "max     244.000000        NaN  NaN   NaN    NaN  NaN     NaN  NaN"
      ]
     },
     "execution_count": 22,
     "metadata": {},
     "output_type": "execute_result"
    }
   ],
   "source": [
    "df.describe(include='all')"
   ]
  },
  {
   "cell_type": "markdown",
   "metadata": {},
   "source": [
    "   * Variabilidade no valor da conta e da gorjeta: A grande quantidade de valores únicos em total_bill e tip indica uma alta variabilidade nos valores das contas e das gorjetas.\n",
    "   * Dias da semana e horários: A maioria das refeições ocorreu no sábado (Sat) e no jantar (Dinner).\n",
    "   * Tamanho dos grupos: O tamanho médio dos grupos parece ser relativamente pequeno, com 2 pessoas sendo o tamanho mais comum."
   ]
  },
  {
   "cell_type": "code",
   "execution_count": 23,
   "metadata": {},
   "outputs": [
    {
     "name": "stdout",
     "output_type": "stream",
     "text": [
      "================================================== Separador ==================================================\n"
     ]
    }
   ],
   "source": [
    "separador()"
   ]
  },
  {
   "cell_type": "markdown",
   "metadata": {},
   "source": [
    "## Distribuição das variáveis qualitativas"
   ]
  },
  {
   "cell_type": "code",
   "execution_count": 24,
   "metadata": {},
   "outputs": [
    {
     "data": {
      "image/png": "[encoded data removed]",
      "text/plain": [
       "<Figure size 1200x800 with 3 Axes>"
      ]
     },
     "metadata": {},
     "output_type": "display_data"
    }
   ],
   "source": [
    "fig, axes = plt.subplots(1, 3, figsize=(12,8))\n",
    "plt.tight_layout(pad=4, w_pad=10, h_pad=5)\n",
    "fig.suptitle('Distribuição de variáveis qualitativas', fontweight='bold')\n",
    "for i, variavel in enumerate(dicionario.query(\"tipo == 'qualitativa'\").variavel.to_list()):\n",
    "    order = None\n",
    "    if dicionario.query('variavel == @variavel').subtipo.to_list()[0] == 'nominal':\n",
    "        order = df[variavel].value_counts().index\n",
    "    ax = sns.countplot(\n",
    "        data=df,\n",
    "        y=variavel,\n",
    "        ax=axes.flatten()[i-1],\n",
    "        color=colors[0],\n",
    "        alpha=0.9,\n",
    "        order=order,\n",
    "        orient='h'\n",
    "    )\n",
    "    ax.bar_label(\n",
    "        ax.containers[0],\n",
    "        fmt='%.0f',\n",
    "        label_type='center',\n",
    "        color='white'\n",
    "    )\n",
    "    ax.set(frame_on=False)\n",
    "    ax.axvline(0, color=\"k\", clip_on=False)\n",
    "    ax.set_title(f\"Distribuição da variável '{variavel}'\")\n",
    "    ax.set_xlabel('Quantidade')\n",
    "    ax.grid(axis='x', linestyle='-')\n",
    "plt.show()"
   ]
  },
  {
   "cell_type": "markdown",
   "metadata": {},
   "source": [
    "* Maioria não fumante: A grande maioria dos clientes (151) não fuma, enquanto apenas 93 declararam ser fumantes. Isso indica que o perfil predominante dos clientes é de não-fumantes.\n",
    "* Final de semana mais popular: Os dias de sábado e domingo (representados por 1 e 2, respectivamente) concentraram a maior parte das visitas, com 87 e 76 registros, respectivamente. Isso sugere que o restaurante é mais frequentado nos finais de semana.\n",
    "* Menor movimento em um dia: O dia da semana representado pelo número 0 (Sexta-Feira) teve o menor número de visitas, indicando que este pode ser um dia mais tranquilo para o estabelecimento."
   ]
  },
  {
   "cell_type": "code",
   "execution_count": 25,
   "metadata": {},
   "outputs": [
    {
     "name": "stdout",
     "output_type": "stream",
     "text": [
      "================================================== Separador ==================================================\n"
     ]
    }
   ],
   "source": [
    "separador()"
   ]
  },
  {
   "cell_type": "markdown",
   "metadata": {},
   "source": [
    "## Distribuição das variáveis quantitativas"
   ]
  },
  {
   "cell_type": "code",
   "execution_count": 26,
   "metadata": {},
   "outputs": [
    {
     "data": {
      "image/png": "[encoded data removed]",
      "text/plain": [
       "<Figure size 700x800 with 3 Axes>"
      ]
     },
     "metadata": {},
     "output_type": "display_data"
    }
   ],
   "source": [
    "fig, axes = plt.subplots(3, figsize=(7,8))\n",
    "plt.tight_layout(pad=4, w_pad=10, h_pad=5)\n",
    "fig.suptitle('Distribuição de variáveis quantitativas', fontweight='bold')\n",
    "\n",
    "for i, variavel in enumerate(dicionario.query(\"tipo == 'quantitativa' and variavel != 'tip'\").variavel.to_list()): #Aqui deu um probleminha com a variavel tip, ai descidi remover ela. Avariavel `tip` tinha muitos valores e era todos muito baixos, sempre menor que 2. tentei ajustar a escada dela, mudei pra escala logaritima, mas anda deu certo\n",
    "    ax = sns.histplot(\n",
    "        data=df,\n",
    "        x=variavel,\n",
    "        ax=axes.flatten()[i],\n",
    "        color=colors[0],\n",
    "        alpha=0.9,\n",
    "    )\n",
    "\n",
    "    ax.set(frame_on=False)\n",
    "    ax.axhline(0, color=\"k\", clip_on=False)\n",
    "    ax.set_title(f\"Distribuição da variável '{variavel}'\")\n",
    "    plt.xlabel(variavel)\n",
    "    ax.set_ylabel('Quantidade')\n",
    "    ax.grid(axis='y', linestyle='-')\n",
    "\n",
    "plt.show()"
   ]
  },
  {
   "cell_type": "markdown",
   "metadata": {},
   "source": [
    "Como foi observado, tive que remover a variavel tip, e por consequencia a scala da variavel size acabou mudando tambem, e apareceu outra size. Posteriormente, pretendo pensar em alguma coisa para poder corrigir isso, mas por enquanto, deixarei assim, porque meu objetivo ate entao foi concluido.\n",
    "\n",
    "* Possíveis agrupamentos: A existência de picos em determinadas faixas de valores pode indicar a existência de agrupamentos de clientes com hábitos de consumo semelhantes. Por exemplo, o pico na faixa de 20-25 poderia indicar um menu popular ou uma promoção que atraiu muitos clientes para essa faixa de valor."
   ]
  }
 ],
 "metadata": {
  "kernelspec": {
   "display_name": "Python 3 (ipykernel)",
   "language": "python",
   "name": "python3"
  },
  "language_info": {
   "codemirror_mode": {
    "name": "ipython",
    "version": 3
   },
   "file_extension": ".py",
   "mimetype": "text/x-python",
   "name": "python",
   "nbconvert_exporter": "python",
   "pygments_lexer": "ipython3",
   "version": "3.10.11"
  },
  "vscode": {
   "interpreter": {
    "hash": "eb3c3305d8b111f0102f4f519c5f17abd113fe74db6752c355e994a9008815ef"
   }
  }
 },
 "nbformat": 4,
 "nbformat_minor": 4
}
