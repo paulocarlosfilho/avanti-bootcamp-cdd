{
 "cells": [
  {
   "cell_type": "code",
   "execution_count": 4,
   "id": "a961bdb4-ee80-43fc-afa6-eec868a544f2",
   "metadata": {},
   "outputs": [],
   "source": [
    "import pandas as pd"
   ]
  },
  {
   "cell_type": "code",
   "execution_count": 5,
   "id": "3f776fa9-5e47-4501-b8a2-099fe4f29fd4",
   "metadata": {},
   "outputs": [],
   "source": [
    "#Ler conjunto de dados em um repósit[orio remoto\n",
    "df = pd.read_csv('https://raw.githubusercontent.com/atlantico-academy/datasets/refs/heads/main/tips.csv', header=None, names=['total_bill', 'tip', 'sex', 'smoker', 'day', 'time', 'size'])\n",
    "#Salvar Conjunto de dados na pasta raw\n",
    "df = df.to_csv('../data/raw/tips.csv', index=False)"
   ]
  },
  {
   "cell_type": "code",
   "execution_count": 6,
   "id": "5dc5fcd9-003b-4af8-bf2d-51f1d50cab2a",
   "metadata": {},
   "outputs": [],
   "source": [
    "#Criar Dinionario de dados\n",
    "data_dictionary = pd.DataFrame([\n",
    "    {\n",
    "        'variavel': 'total_bill',\n",
    "        'descricao': 'Valor total da conta ou transação',\n",
    "        'tipo': 'quantitativa',\n",
    "        'subtipo': 'contínua',\n",
    "    },\n",
    "    {\n",
    "        'variavel': 'tip',\n",
    "        'descricao': 'Valor da Gorjeta',\n",
    "        'tipo': 'quantitativa',\n",
    "        'subtipo': 'contínua'\n",
    "    },\n",
    "    {\n",
    "        'variavel': 'sex',\n",
    "        'descricao': 'Sexo do Cliente',\n",
    "        'tipo': 'qualitativa',\n",
    "        'subtipo': 'nominal'\n",
    "    },\n",
    "    {\n",
    "        'variavel': 'smoker',\n",
    "        'descricao': 'Se o cliente fuma',\n",
    "        'tipo': 'qualitativa',\n",
    "        'subtipo': 'nominal'\n",
    "    },\n",
    "    {\n",
    "        'variavel': 'day',\n",
    "        'descricao': 'Dia da Semana',\n",
    "        'tipo': 'qualitativa',\n",
    "        'subtipo': 'nominal'\n",
    "    },\n",
    "    {\n",
    "        'variavel': 'time',\n",
    "        'descricao': 'Periodo do dia (Almoço ou Jantar)',\n",
    "        'tipo': 'qualitativa',\n",
    "        'subtipo': 'nominal'\n",
    "    },\n",
    "    {\n",
    "        'variavel': 'size',\n",
    "        'descricao': 'Tamanho do grupo',\n",
    "        'tipo': 'quantitativa',\n",
    "        'subtipo': 'discreta'\n",
    "    }\n",
    "])\n",
    "\n",
    "#Salvar dicionario de dados na pasta external\n",
    "data_dictionary.to_csv('../data/external/dictionary.csv', index=False)\n"
   ]
  }
 ],
 "metadata": {
  "kernelspec": {
   "display_name": "Python 3 (ipykernel)",
   "language": "python",
   "name": "python3"
  },
  "language_info": {
   "codemirror_mode": {
    "name": "ipython",
    "version": 3
   },
   "file_extension": ".py",
   "mimetype": "text/x-python",
   "name": "python",
   "nbconvert_exporter": "python",
   "pygments_lexer": "ipython3",
   "version": "3.10.11"
  }
 },
 "nbformat": 4,
 "nbformat_minor": 5
}
